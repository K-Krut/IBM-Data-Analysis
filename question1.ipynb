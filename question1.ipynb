{
 "cells": [
  {
   "cell_type": "code",
   "execution_count": null,
   "id": "3abcbd7d-f2ae-47c2-9266-e0cf6fed28b4",
   "metadata": {},
   "outputs": [],
   "source": [
    "df.dtypes"
   ]
  },
  {
   "cell_type": "code",
   "execution_count": null,
   "id": "4260c875-d0f5-4c6c-b2d1-929757418600",
   "metadata": {},
   "outputs": [],
   "source": [
    "date              object\n",
    "price            float64\n",
    "bedrooms         float64\n",
    "bathrooms        float64\n",
    "sqft_living        int64\n",
    "sqft_lot           int64\n",
    "floors           float64\n",
    "waterfront         int64\n",
    "view               int64\n",
    "condition          int64\n",
    "grade              int64\n",
    "sqft_above         int64\n",
    "sqft_basement      int64\n",
    "yr_built           int64\n",
    "yr_renovated       int64\n",
    "zipcode            int64\n",
    "lat              float64\n",
    "long             float64\n",
    "sqft_living15      int64\n",
    "sqft_lot15         int64\n",
    "dtype: object"
   ]
  }
 ],
 "metadata": {
  "kernelspec": {
   "display_name": "Python 3 (ipykernel)",
   "language": "python",
   "name": "python3"
  },
  "language_info": {
   "codemirror_mode": {
    "name": "ipython",
    "version": 3
   },
   "file_extension": ".py",
   "mimetype": "text/x-python",
   "name": "python",
   "nbconvert_exporter": "python",
   "pygments_lexer": "ipython3",
   "version": "3.9.7"
  }
 },
 "nbformat": 4,
 "nbformat_minor": 5
}
