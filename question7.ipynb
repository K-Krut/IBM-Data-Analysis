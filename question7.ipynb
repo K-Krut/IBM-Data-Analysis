{
 "cells": [
  {
   "cell_type": "code",
   "execution_count": 86,
   "id": "63b3ade1-d36d-48f2-b027-e10ae0e44b00",
   "metadata": {},
   "outputs": [
    {
     "data": {
      "text/plain": [
       "array([283850.64176653, 662015.89176653, 307084.89176653, ...,\n",
       "       303822.64176653, 428176.14176653, 303694.64176653])"
      ]
     },
     "execution_count": 86,
     "metadata": {},
     "output_type": "execute_result"
    }
   ],
   "source": [
    "features =[\"floors\", \"waterfront\",\"lat\" ,\"bedrooms\" ,\"sqft_basement\" ,\"view\" ,\"bathrooms\",\n",
    "           \"sqft_living15\",\"sqft_above\",\"grade\",\"sqft_living\"]     \n",
    "yhat = lm.predict(df[features])\n",
    "yhat"
   ]
  },
  {
   "cell_type": "code",
   "execution_count": 85,
   "id": "d05b015d-543a-4e6b-be13-70263568dc55",
   "metadata": {
    "collapsed": false,
    "jupyter": {
     "outputs_hidden": false
    }
   },
   "outputs": [
    {
     "data": {
      "text/plain": [
       "0.657679183672129"
      ]
     },
     "execution_count": 85,
     "metadata": {},
     "output_type": "execute_result"
    }
   ],
   "source": [
    "lm = LinearRegression()\n",
    "lm.fit(df[features], df['price'])\n",
    "lm.score(df[features], df['price'])"
   ]
  },
  {
   "cell_type": "code",
   "execution_count": null,
   "id": "55fd722c-3617-4844-8fa3-1beb7532da66",
   "metadata": {},
   "outputs": [],
   "source": []
  }
 ],
 "metadata": {
  "kernelspec": {
   "display_name": "Python 3 (ipykernel)",
   "language": "python",
   "name": "python3"
  },
  "language_info": {
   "codemirror_mode": {
    "name": "ipython",
    "version": 3
   },
   "file_extension": ".py",
   "mimetype": "text/x-python",
   "name": "python",
   "nbconvert_exporter": "python",
   "pygments_lexer": "ipython3",
   "version": "3.9.7"
  }
 },
 "nbformat": 4,
 "nbformat_minor": 5
}
